{
 "cells": [
  {
   "cell_type": "code",
   "execution_count": 1,
   "metadata": {},
   "outputs": [],
   "source": [
    "import cv2\n",
    "from matplotlib import pyplot as plt\n",
    "import numpy as np"
   ]
  },
  {
   "cell_type": "code",
   "execution_count": 2,
   "metadata": {},
   "outputs": [],
   "source": [
    "image = cv2.imread('Data/Images/test 1.jpg')"
   ]
  },
  {
   "cell_type": "code",
   "execution_count": 3,
   "metadata": {},
   "outputs": [],
   "source": [
    "lanes = np.copy(image)\n",
    "gray_lanes = cv2.cvtColor(lanes, cv2.COLOR_RGB2GRAY)"
   ]
  },
  {
   "cell_type": "code",
   "execution_count": 4,
   "metadata": {},
   "outputs": [
    {
     "name": "stdout",
     "output_type": "stream",
     "text": [
      "[[233 238 207 ...  40  42  53]\n",
      " [238 193 160 ... 112  82  38]\n",
      " [204 159 157 ... 150 143 104]\n",
      " ...\n",
      " [132 121 101 ...  80  80  94]\n",
      " [155 122 107 ...  88  90  92]\n",
      " [180 126 117 ...  78  76  54]]\n"
     ]
    }
   ],
   "source": [
    "print(gray_lanes)"
   ]
  },
  {
   "cell_type": "code",
   "execution_count": 5,
   "metadata": {},
   "outputs": [],
   "source": [
    "blured_gray = cv2.GaussianBlur(gray_lanes, (5,5), 0)"
   ]
  },
  {
   "cell_type": "code",
   "execution_count": 6,
   "metadata": {},
   "outputs": [
    {
     "name": "stdout",
     "output_type": "stream",
     "text": [
      "[[212 203 184 ...  87  74  68]\n",
      " [202 194 177 ... 103  90  84]\n",
      " [183 177 165 ... 131 121 116]\n",
      " ...\n",
      " [125 119 110 ...  84  85  86]\n",
      " [132 125 113 ...  83  83  83]\n",
      " [136 128 115 ...  82  82  81]]\n"
     ]
    }
   ],
   "source": [
    "print(blured_gray)"
   ]
  },
  {
   "cell_type": "code",
   "execution_count": 7,
   "metadata": {},
   "outputs": [
    {
     "ename": "KeyboardInterrupt",
     "evalue": "",
     "output_type": "error",
     "traceback": [
      "\u001b[1;31m---------------------------------------------------------------------------\u001b[0m",
      "\u001b[1;31mKeyboardInterrupt\u001b[0m                         Traceback (most recent call last)",
      "\u001b[1;32m<ipython-input-7-3c91ee3f93cd>\u001b[0m in \u001b[0;36m<module>\u001b[1;34m\u001b[0m\n\u001b[0;32m      1\u001b[0m \u001b[0mcanny_lanes\u001b[0m \u001b[1;33m=\u001b[0m \u001b[0mcv2\u001b[0m\u001b[1;33m.\u001b[0m\u001b[0mCanny\u001b[0m\u001b[1;33m(\u001b[0m\u001b[0mblured_gray\u001b[0m\u001b[1;33m,\u001b[0m \u001b[1;36m50\u001b[0m\u001b[1;33m,\u001b[0m \u001b[1;36m150\u001b[0m\u001b[1;33m)\u001b[0m\u001b[1;33m\u001b[0m\u001b[1;33m\u001b[0m\u001b[0m\n\u001b[0;32m      2\u001b[0m \u001b[0mcv2\u001b[0m\u001b[1;33m.\u001b[0m\u001b[0mimshow\u001b[0m\u001b[1;33m(\u001b[0m\u001b[1;34m'res1'\u001b[0m\u001b[1;33m,\u001b[0m \u001b[0mcanny_lanes\u001b[0m\u001b[1;33m)\u001b[0m\u001b[1;33m\u001b[0m\u001b[1;33m\u001b[0m\u001b[0m\n\u001b[1;32m----> 3\u001b[1;33m \u001b[0mcv2\u001b[0m\u001b[1;33m.\u001b[0m\u001b[0mwaitKey\u001b[0m\u001b[1;33m(\u001b[0m\u001b[1;36m0\u001b[0m\u001b[1;33m)\u001b[0m\u001b[1;33m\u001b[0m\u001b[1;33m\u001b[0m\u001b[0m\n\u001b[0m",
      "\u001b[1;31mKeyboardInterrupt\u001b[0m: "
     ]
    }
   ],
   "source": [
    "canny_lanes = cv2.Canny(blured_gray, 50, 150)\n",
    "cv2.imshow('res1', canny_lanes)\n",
    "##cv2.waitKey(0)"
   ]
  },
  {
   "cell_type": "code",
   "execution_count": null,
   "metadata": {},
   "outputs": [],
   "source": [
    "plt.imshow(canny_lanes)"
   ]
  },
  {
   "cell_type": "code",
   "execution_count": null,
   "metadata": {},
   "outputs": [],
   "source": [
    "polygons = np.array([\n",
    "    [(180, 665), (1200, 665) , (650, 420)]\n",
    "])\n",
    "mask = np.zeros_like(canny_lanes)\n",
    "cv2.fillPoly(mask, polygons, 255)"
   ]
  },
  {
   "cell_type": "code",
   "execution_count": null,
   "metadata": {},
   "outputs": [],
   "source": [
    "masked_lanes = cv2.bitwise_and(canny_lanes, mask)"
   ]
  },
  {
   "cell_type": "code",
   "execution_count": null,
   "metadata": {},
   "outputs": [],
   "source": [
    "cv2.imshow('res1', masked_lanes)\n",
    "cv2.waitKey(0)"
   ]
  },
  {
   "cell_type": "code",
   "execution_count": null,
   "metadata": {},
   "outputs": [],
   "source": [
    "lane_lines = cv2.HoughLinesP(masked_lanes, 2, np.pi/180, 100, np.array([]), minLineLength=5)"
   ]
  },
  {
   "cell_type": "code",
   "execution_count": null,
   "metadata": {},
   "outputs": [],
   "source": [
    "def display(image, lines):\n",
    "    lines_image = np.zeros_like(image)\n",
    "    if lane_lines is not None:\n",
    "        for x1, y1, x2, y2 in lines:\n",
    "            cv2.line(lines_image, (x1,y1), (x2,y2), (255,0,0), 10)\n",
    "    return lines_image"
   ]
  },
  {
   "cell_type": "code",
   "execution_count": null,
   "metadata": {},
   "outputs": [],
   "source": [
    "def make_coordinates(image, line_params):\n",
    "    slope, intercept = line_params\n",
    "    y1 = int(665)\n",
    "    y2 = int(480)\n",
    "    x1 = int((y1-intercept)/slope)\n",
    "    x2 = int((y2-intercept)/slope)\n",
    "    return np.array([x1, y1, x2, y2])"
   ]
  },
  {
   "cell_type": "code",
   "execution_count": null,
   "metadata": {},
   "outputs": [],
   "source": [
    "def averaged_lines(image, lines):\n",
    "    left_fit = []\n",
    "    right_fit = [(0.67,0)]\n",
    "    if lines is not None:\n",
    "        for line in lines:\n",
    "            x1, y1, x2, y2 = line.reshape(4)\n",
    "            parameters = np.polyfit((x1, x2), (y1, y2), 1)\n",
    "            slope = parameters[0]\n",
    "            intercept = parameters[1]\n",
    "            if slope < 0:\n",
    "                left_fit.append((slope, intercept))\n",
    "            else:\n",
    "                right_fit.append((slope, intercept))\n",
    "    left_fit_average = np.average(left_fit, axis=0)\n",
    "    right_fit_average = np.average(right_fit, axis=0)\n",
    "    left_line = make_coordinates(image, left_fit_average)\n",
    "    right_line = make_coordinates(image, right_fit_average)\n",
    "    return np.array([left_line, right_line])"
   ]
  },
  {
   "cell_type": "code",
   "execution_count": null,
   "metadata": {},
   "outputs": [],
   "source": [
    "averaged_line = averaged_lines(lanes, lane_lines)\n",
    "print(averaged_line)\n",
    "new_img = display(lanes, averaged_line)"
   ]
  },
  {
   "cell_type": "code",
   "execution_count": null,
   "metadata": {},
   "outputs": [],
   "source": [
    "cv2.imshow('res1', new_img)\n",
    "cv2.waitKey(0)"
   ]
  },
  {
   "cell_type": "code",
   "execution_count": null,
   "metadata": {},
   "outputs": [],
   "source": [
    "final_image2 = cv2.addWeighted(new_img, 0.8, image, 1, 1)\n",
    "cv2.imshow('res1', final_image2)\n",
    "cv2.waitKey(0)"
   ]
  },
  {
   "cell_type": "code",
   "execution_count": null,
   "metadata": {},
   "outputs": [],
   "source": [
    "cap = cv2.VideoCapture(\"project_video.mp4\")\n",
    "while(cap.isOpened()):\n",
    "    _, frame = cap.read()\n",
    "    gray_frame = cv2.cvtColor(frame, cv2.COLOR_RGB2GRAY)\n",
    "    blured_frame = cv2.GaussianBlur(gray_frame, (5,5), 0)\n",
    "    canny_frame = cv2.Canny(blured_frame, 50, 150)\n",
    "    polygons = np.array([\n",
    "    [(180, 665), (1200, 665) , (650, 420)]\n",
    "    ])\n",
    "    mask_2 = np.zeros_like(canny_frame)\n",
    "    cv2.fillPoly(mask_2, polygons, 255)\n",
    "    masked_frames = cv2.bitwise_and(canny_frame, mask_2)\n",
    "    lane_lines_frames = cv2.HoughLinesP(masked_frames, 2, np.pi/180, 100, np.array([]), minLineLength=15)\n",
    "    averaged_Fline = averaged_lines(frame, lane_lines_frames)\n",
    "    new_frame_img = display(frame, averaged_Fline)\n",
    "    final_frames = cv2.addWeighted(new_frame_img, 0.8, frame, 1, 1)\n",
    "    cv2.imshow('res1', final_frames)\n",
    "    cv2.waitKey(1)\n"
   ]
  }
 ],
 "metadata": {
  "kernelspec": {
   "display_name": "Python 3",
   "language": "python",
   "name": "python3"
  },
  "language_info": {
   "codemirror_mode": {
    "name": "ipython",
    "version": 3
   },
   "file_extension": ".py",
   "mimetype": "text/x-python",
   "name": "python",
   "nbconvert_exporter": "python",
   "pygments_lexer": "ipython3",
   "version": "3.8.5"
  }
 },
 "nbformat": 4,
 "nbformat_minor": 5
}
