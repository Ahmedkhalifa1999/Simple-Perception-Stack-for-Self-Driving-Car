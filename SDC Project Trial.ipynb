{
 "cells": [
  {
   "cell_type": "code",
   "execution_count": null,
   "id": "bb8000da",
   "metadata": {},
   "outputs": [],
   "source": [
    "import cv2\n",
    "from matplotlib import pyplot as plt\n",
    "import numpy as np"
   ]
  },
  {
   "cell_type": "code",
   "execution_count": null,
   "id": "80a4fc53",
   "metadata": {},
   "outputs": [],
   "source": [
    "image = cv2.imread('test2.jpg')"
   ]
  },
  {
   "cell_type": "code",
   "execution_count": null,
   "id": "296466a7",
   "metadata": {},
   "outputs": [],
   "source": [
    "lanes = np.copy(image)\n",
    "gray_lanes = cv2.cvtColor(lanes, cv2.COLOR_RGB2GRAY)"
   ]
  },
  {
   "cell_type": "code",
   "execution_count": null,
   "id": "9929d147",
   "metadata": {},
   "outputs": [],
   "source": [
    "print(gray_lanes)"
   ]
  },
  {
   "cell_type": "code",
   "execution_count": null,
   "id": "f659c1f5",
   "metadata": {},
   "outputs": [],
   "source": [
    "blured_gray = cv2.GaussianBlur(gray_lanes, (5,5), 0)"
   ]
  },
  {
   "cell_type": "code",
   "execution_count": null,
   "id": "d63f84a8",
   "metadata": {},
   "outputs": [],
   "source": [
    "print(blured_gray)"
   ]
  },
  {
   "cell_type": "code",
   "execution_count": null,
   "id": "8a2cadcd",
   "metadata": {},
   "outputs": [],
   "source": [
    "canny_lanes = cv2.Canny(blured_gray, 50, 150)\n",
    "cv2.imshow('res1', canny_lanes)\n",
    "cv2.waitKey(0)"
   ]
  },
  {
   "cell_type": "code",
   "execution_count": null,
   "id": "7950568d",
   "metadata": {},
   "outputs": [],
   "source": [
    "plt.imshow(canny_lanes)"
   ]
  },
  {
   "cell_type": "code",
   "execution_count": null,
   "id": "bbca9622",
   "metadata": {},
   "outputs": [],
   "source": [
    "polygons = np.array([\n",
    "    [(180, 665), (1200, 665) , (650, 420)]\n",
    "])\n",
    "mask = np.zeros_like(canny_lanes)\n",
    "cv2.fillPoly(mask, polygons, 255)"
   ]
  },
  {
   "cell_type": "code",
   "execution_count": null,
   "id": "dac2d9f0",
   "metadata": {},
   "outputs": [],
   "source": [
    "masked_lanes = cv2.bitwise_and(canny_lanes, mask)"
   ]
  },
  {
   "cell_type": "code",
   "execution_count": null,
   "id": "5106e58a",
   "metadata": {},
   "outputs": [],
   "source": [
    "cv2.imshow('res1', masked_lanes)\n",
    "cv2.waitKey(0)"
   ]
  },
  {
   "cell_type": "code",
   "execution_count": null,
   "id": "8293b887",
   "metadata": {},
   "outputs": [],
   "source": [
    "lane_lines = cv2.HoughLinesP(masked_lanes, 2, np.pi/180, 100, np.array([]), minLineLength=5)"
   ]
  },
  {
   "cell_type": "code",
   "execution_count": null,
   "id": "77dfbbfc",
   "metadata": {},
   "outputs": [],
   "source": [
    "def display(image, lines):\n",
    "    lines_image = np.zeros_like(image)\n",
    "    if lane_lines is not None:\n",
    "        for x1, y1, x2, y2 in lines:\n",
    "            cv2.line(lines_image, (x1,y1), (x2,y2), (255,0,0), 10)\n",
    "    return lines_image"
   ]
  },
  {
   "cell_type": "code",
   "execution_count": null,
   "id": "59e61a8f",
   "metadata": {},
   "outputs": [],
   "source": [
    "def make_coordinates(image, line_params):\n",
    "    slope, intercept = line_params\n",
    "    y1 = int(665)\n",
    "    y2 = int(480)\n",
    "    x1 = int((y1-intercept)/slope)\n",
    "    x2 = int((y2-intercept)/slope)\n",
    "    return np.array([x1, y1, x2, y2])"
   ]
  },
  {
   "cell_type": "code",
   "execution_count": null,
   "id": "0978505d",
   "metadata": {},
   "outputs": [],
   "source": [
    "def averaged_lines(image, lines):\n",
    "    left_fit = []\n",
    "    right_fit = [(0.67,0)]\n",
    "    if lines is not None:\n",
    "        for line in lines:\n",
    "            x1, y1, x2, y2 = line.reshape(4)\n",
    "            parameters = np.polyfit((x1, x2), (y1, y2), 1)\n",
    "            slope = parameters[0]\n",
    "            intercept = parameters[1]\n",
    "            if slope < 0:\n",
    "                left_fit.append((slope, intercept))\n",
    "            else:\n",
    "                right_fit.append((slope, intercept))\n",
    "    left_fit_average = np.average(left_fit, axis=0)\n",
    "    right_fit_average = np.average(right_fit, axis=0)\n",
    "    left_line = make_coordinates(image, left_fit_average)\n",
    "    right_line = make_coordinates(image, right_fit_average)\n",
    "    return np.array([left_line, right_line])"
   ]
  },
  {
   "cell_type": "code",
   "execution_count": null,
   "id": "53a142a6",
   "metadata": {},
   "outputs": [],
   "source": [
    "averaged_line = averaged_lines(lanes, lane_lines)\n",
    "print(averaged_line)\n",
    "new_img = display(lanes, averaged_line)"
   ]
  },
  {
   "cell_type": "code",
   "execution_count": null,
   "id": "a65ecbbf",
   "metadata": {},
   "outputs": [],
   "source": [
    "cv2.imshow('res1', new_img)\n",
    "cv2.waitKey(0)"
   ]
  },
  {
   "cell_type": "code",
   "execution_count": null,
   "id": "60e5f59a",
   "metadata": {},
   "outputs": [],
   "source": [
    "final_image2 = cv2.addWeighted(new_img, 0.8, image, 1, 1)\n",
    "cv2.imshow('res1', final_image2)\n",
    "cv2.waitKey(0)"
   ]
  },
  {
   "cell_type": "code",
   "execution_count": null,
   "id": "34e54e12",
   "metadata": {},
   "outputs": [],
   "source": [
    "cap = cv2.VideoCapture(\"project_video.mp4\")\n",
    "while(cap.isOpened()):\n",
    "    _, frame = cap.read()\n",
    "    gray_frame = cv2.cvtColor(frame, cv2.COLOR_RGB2GRAY)\n",
    "    blured_frame = cv2.GaussianBlur(gray_frame, (5,5), 0)\n",
    "    canny_frame = cv2.Canny(blured_frame, 50, 150)\n",
    "    polygons = np.array([\n",
    "    [(180, 665), (1200, 665) , (650, 420)]\n",
    "    ])\n",
    "    mask_2 = np.zeros_like(canny_frame)\n",
    "    cv2.fillPoly(mask_2, polygons, 255)\n",
    "    masked_frames = cv2.bitwise_and(canny_frame, mask_2)\n",
    "    lane_lines_frames = cv2.HoughLinesP(masked_frames, 2, np.pi/180, 100, np.array([]), minLineLength=15)\n",
    "    averaged_Fline = averaged_lines(frame, lane_lines_frames)\n",
    "    new_frame_img = display(frame, averaged_Fline)\n",
    "    final_frames = cv2.addWeighted(new_frame_img, 0.8, frame, 1, 1)\n",
    "    cv2.imshow('res1', final_frames)\n",
    "    cv2.waitKey(1)\n"
   ]
  }
 ],
 "metadata": {
  "kernelspec": {
   "display_name": "hackathon",
   "language": "python",
   "name": "hackathon"
  },
  "language_info": {
   "codemirror_mode": {
    "name": "ipython",
    "version": 3
   },
   "file_extension": ".py",
   "mimetype": "text/x-python",
   "name": "python",
   "nbconvert_exporter": "python",
   "pygments_lexer": "ipython3",
   "version": "3.8.8"
  }
 },
 "nbformat": 4,
 "nbformat_minor": 5
}
