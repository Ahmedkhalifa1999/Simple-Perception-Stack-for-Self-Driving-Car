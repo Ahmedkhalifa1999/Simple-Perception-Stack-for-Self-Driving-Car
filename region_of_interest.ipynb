{
 "cells": [
  {
   "cell_type": "code",
   "execution_count": 13,
   "metadata": {},
   "outputs": [],
   "source": [
    "import numpy as np\n",
    "import cv2 as cv\n",
    "import matplotlib.pyplot as plt\n",
    "from modules.region_of_interest import *"
   ]
  },
  {
   "cell_type": "code",
   "execution_count": 14,
   "metadata": {},
   "outputs": [],
   "source": [
    "image = cv.imread(\"Data/Straight Lines 1.jpg\")"
   ]
  },
  {
   "cell_type": "code",
   "execution_count": 17,
   "metadata": {},
   "outputs": [],
   "source": [
    "### This function returns the prespective and inverse prespective matrix for a prespective transform\n",
    "def perspectiveTransform(srcPoints, dstPoints):\n",
    "    M = cv.getPerspectiveTransform(srcPoints, dstPoints)\n",
    "    Minv = cv.getPerspectiveTransform(dstPoints, srcPoints)\n",
    "    return M, Minv"
   ]
  },
  {
   "cell_type": "code",
   "execution_count": 18,
   "metadata": {},
   "outputs": [],
   "source": [
    "#Testing Function \n",
    "srcPoints = np.array([[375 , 480],\n",
    "                      [905 , 480],\n",
    "                      [1811, 685],\n",
    "                      [-531, 685]]).astype(np.float32)\n",
    "\n",
    "dstPoints = np.array([[0, 0],\n",
    "                      [500, 0],\n",
    "                      [500, 600],\n",
    "                      [0, 600]]).astype(np.float32)\n",
    "\n",
    "M, Minv = perspectiveTransform(srcPoints, dstPoints)"
   ]
  },
  {
   "cell_type": "code",
   "execution_count": 20,
   "metadata": {},
   "outputs": [],
   "source": []
  },
  {
   "cell_type": "code",
   "execution_count": 21,
   "metadata": {},
   "outputs": [],
   "source": []
  },
  {
   "cell_type": "code",
   "execution_count": null,
   "metadata": {},
   "outputs": [],
   "source": []
  },
  {
   "cell_type": "code",
   "execution_count": null,
   "metadata": {},
   "outputs": [],
   "source": []
  },
  {
   "cell_type": "code",
   "execution_count": null,
   "metadata": {},
   "outputs": [],
   "source": []
  }
 ],
 "metadata": {
  "kernelspec": {
   "display_name": "Python 3",
   "language": "python",
   "name": "python3"
  },
  "language_info": {
   "codemirror_mode": {
    "name": "ipython",
    "version": 3
   },
   "file_extension": ".py",
   "mimetype": "text/x-python",
   "name": "python",
   "nbconvert_exporter": "python",
   "pygments_lexer": "ipython3",
   "version": "3.8.8"
  }
 },
 "nbformat": 4,
 "nbformat_minor": 4
}
